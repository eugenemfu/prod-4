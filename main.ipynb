{
 "cells": [
  {
   "cell_type": "code",
   "execution_count": 1,
   "metadata": {},
   "outputs": [],
   "source": [
    "import numpy as np\n",
    "import pandas as pd\n",
    "import json\n",
    "import os\n",
    "import matplotlib.pyplot as plt\n",
    "from sklearn.manifold import TSNE\n",
    "from sklearn.cluster import AgglomerativeClustering, KMeans, SpectralClustering, OPTICS\n",
    "from sklearn.metrics import rand_score, v_measure_score"
   ]
  },
  {
   "cell_type": "markdown",
   "metadata": {},
   "source": [
    "# СИСТЕМА ОЦЕНИВАНИЯ СХОЖЕСТИ ФОРМЫ ТРЕХМЕРНЫХ МОДЕЛЕЙ\n",
    "\n",
    "Воспользуемся гистограммами из архива https://drive.google.com/file/d/1JnnbtKOj0H_8wQu1TnhnrWXXKPr_NIB7/view?usp=sharing\n",
    "\n",
    "Подготовим данные. Уберем лишнюю информацию из лейблов и возьмем гистограммы с одинаковыми интервалами для кластеризации."
   ]
  },
  {
   "cell_type": "code",
   "execution_count": 2,
   "metadata": {},
   "outputs": [
    {
     "data": {
      "text/html": [
       "<div>\n",
       "<style scoped>\n",
       "    .dataframe tbody tr th:only-of-type {\n",
       "        vertical-align: middle;\n",
       "    }\n",
       "\n",
       "    .dataframe tbody tr th {\n",
       "        vertical-align: top;\n",
       "    }\n",
       "\n",
       "    .dataframe thead th {\n",
       "        text-align: right;\n",
       "    }\n",
       "</style>\n",
       "<table border=\"1\" class=\"dataframe\">\n",
       "  <thead>\n",
       "    <tr style=\"text-align: right;\">\n",
       "      <th></th>\n",
       "      <th>type</th>\n",
       "    </tr>\n",
       "    <tr>\n",
       "      <th>model</th>\n",
       "      <th></th>\n",
       "    </tr>\n",
       "  </thead>\n",
       "  <tbody>\n",
       "    <tr>\n",
       "      <th>b5025746-e58f-4696-837c-5b21808b7ae9</th>\n",
       "      <td>Torus</td>\n",
       "    </tr>\n",
       "    <tr>\n",
       "      <th>30a730ca-c466-4e8c-b00b-bf7b317495e2</th>\n",
       "      <td>Cone</td>\n",
       "    </tr>\n",
       "    <tr>\n",
       "      <th>7d0c7362-1e8d-4008-b444-cdf111e06ce9</th>\n",
       "      <td>Sphere</td>\n",
       "    </tr>\n",
       "    <tr>\n",
       "      <th>d58d68a4-7acb-48d8-96bd-71f1eca1affe</th>\n",
       "      <td>Sphere</td>\n",
       "    </tr>\n",
       "    <tr>\n",
       "      <th>df907d43-7c4f-4ccd-9350-0d84c41dba54</th>\n",
       "      <td>Cube</td>\n",
       "    </tr>\n",
       "    <tr>\n",
       "      <th>...</th>\n",
       "      <td>...</td>\n",
       "    </tr>\n",
       "    <tr>\n",
       "      <th>e194b0ba-7565-4919-b108-f288dd73852d</th>\n",
       "      <td>Cone</td>\n",
       "    </tr>\n",
       "    <tr>\n",
       "      <th>255e1024-5967-4247-9de9-b595403f6bc5</th>\n",
       "      <td>Cone</td>\n",
       "    </tr>\n",
       "    <tr>\n",
       "      <th>4289a105-141e-4857-b1d8-831d933a29a3</th>\n",
       "      <td>Cylinder</td>\n",
       "    </tr>\n",
       "    <tr>\n",
       "      <th>cf2364fa-4c63-40cd-8971-682e3790b689</th>\n",
       "      <td>Sphere</td>\n",
       "    </tr>\n",
       "    <tr>\n",
       "      <th>b3f48288-dd53-44f4-9d38-c4589a58c7cd</th>\n",
       "      <td>Torus</td>\n",
       "    </tr>\n",
       "  </tbody>\n",
       "</table>\n",
       "<p>10000 rows × 1 columns</p>\n",
       "</div>"
      ],
      "text/plain": [
       "                                          type\n",
       "model                                         \n",
       "b5025746-e58f-4696-837c-5b21808b7ae9     Torus\n",
       "30a730ca-c466-4e8c-b00b-bf7b317495e2      Cone\n",
       "7d0c7362-1e8d-4008-b444-cdf111e06ce9    Sphere\n",
       "d58d68a4-7acb-48d8-96bd-71f1eca1affe    Sphere\n",
       "df907d43-7c4f-4ccd-9350-0d84c41dba54      Cube\n",
       "...                                        ...\n",
       "e194b0ba-7565-4919-b108-f288dd73852d      Cone\n",
       "255e1024-5967-4247-9de9-b595403f6bc5      Cone\n",
       "4289a105-141e-4857-b1d8-831d933a29a3  Cylinder\n",
       "cf2364fa-4c63-40cd-8971-682e3790b689    Sphere\n",
       "b3f48288-dd53-44f4-9d38-c4589a58c7cd     Torus\n",
       "\n",
       "[10000 rows x 1 columns]"
      ]
     },
     "execution_count": 2,
     "metadata": {},
     "output_type": "execute_result"
    }
   ],
   "source": [
    "labels = pd.read_csv('labels.csv', index_col='model')\n",
    "labels.type = labels.type.apply(lambda x: x.split('.')[0])\n",
    "labels"
   ]
  },
  {
   "cell_type": "code",
   "execution_count": 3,
   "metadata": {},
   "outputs": [],
   "source": [
    "X = []\n",
    "y = []\n",
    "\n",
    "for histogram_filename in os.listdir('histograms'):\n",
    "    X.append([])\n",
    "    with open('histograms/' + histogram_filename, 'r') as f:\n",
    "        histogram = json.load(f)\n",
    "    for data in histogram['histogram_data']:\n",
    "        if data['intervals'] == 8:\n",
    "            X[-1].extend(data['data'])\n",
    "    y.append(labels.loc[histogram_filename[:-5], 'type'])\n",
    "\n",
    "X = np.array(X)\n",
    "y = np.array(y)"
   ]
  },
  {
   "cell_type": "markdown",
   "metadata": {},
   "source": [
    "Изобразим получившиеся вектора. "
   ]
  },
  {
   "cell_type": "code",
   "execution_count": 4,
   "metadata": {},
   "outputs": [],
   "source": [
    "X_tsne = TSNE(n_components=2).fit_transform(X)"
   ]
  },
  {
   "cell_type": "code",
   "execution_count": 5,
   "metadata": {},
   "outputs": [
    {
     "data": {
      "image/png": "[encoded data removed]",
      "text/plain": [
       "<Figure size 432x288 with 1 Axes>"
      ]
     },
     "metadata": {
      "needs_background": "light"
     },
     "output_type": "display_data"
    }
   ],
   "source": [
    "plt.scatter(X_tsne[:, 0], X_tsne[:, 1], 2, pd.factorize(y)[0])\n",
    "plt.show()"
   ]
  },
  {
   "cell_type": "markdown",
   "metadata": {},
   "source": [
    "Кажется, кластеризовать будет сложно.\n",
    "\n",
    "Попробуем несколько алгоритмов с разными параметрами и будем оптимизировать их по Rand score и V-measure - хорошим метрикам оценивания кластеризации."
   ]
  },
  {
   "cell_type": "code",
   "execution_count": 6,
   "metadata": {},
   "outputs": [
    {
     "name": "stdout",
     "output_type": "stream",
     "text": [
      "0.6402198468573151 0.11103595687318644\n"
     ]
    }
   ],
   "source": [
    "model = AgglomerativeClustering(n_clusters=5, affinity='l2', linkage='complete')\n",
    "y_pred = model.fit_predict(X)\n",
    "print(rand_score(y, y_pred), v_measure_score(y, y_pred))"
   ]
  },
  {
   "cell_type": "code",
   "execution_count": 7,
   "metadata": {},
   "outputs": [
    {
     "name": "stdout",
     "output_type": "stream",
     "text": [
      "0.6654941734623953 0.07421220487423369\n"
     ]
    }
   ],
   "source": [
    "model = KMeans(n_clusters=5)\n",
    "y_pred = model.fit_predict(X)\n",
    "print(rand_score(y, y_pred), v_measure_score(y, y_pred))"
   ]
  },
  {
   "cell_type": "code",
   "execution_count": 8,
   "metadata": {},
   "outputs": [
    {
     "name": "stdout",
     "output_type": "stream",
     "text": [
      "0.7217015522828565 0.2034945415952617\n"
     ]
    }
   ],
   "source": [
    "model = SpectralClustering(n_clusters=5, affinity='nearest_neighbors', n_neighbors=26)\n",
    "y_pred = model.fit_predict(X)\n",
    "print(rand_score(y, y_pred), v_measure_score(y, y_pred))"
   ]
  },
  {
   "cell_type": "markdown",
   "metadata": {},
   "source": [
    "Лучший, хоть и плохой, результат дала спектральная кластеризация с графом ближайших соседей. "
   ]
  }
 ],
 "metadata": {
  "interpreter": {
   "hash": "6c21b738d3baccab23687aa466aadc66c80de4f069f00107e19b0c6babad90f9"
  },
  "kernelspec": {
   "display_name": "Python 3.9.7 64-bit ('main': conda)",
   "name": "python3"
  },
  "language_info": {
   "codemirror_mode": {
    "name": "ipython",
    "version": 3
   },
   "file_extension": ".py",
   "mimetype": "text/x-python",
   "name": "python",
   "nbconvert_exporter": "python",
   "pygments_lexer": "ipython3",
   "version": "3.9.7"
  },
  "orig_nbformat": 4
 },
 "nbformat": 4,
 "nbformat_minor": 2
}
